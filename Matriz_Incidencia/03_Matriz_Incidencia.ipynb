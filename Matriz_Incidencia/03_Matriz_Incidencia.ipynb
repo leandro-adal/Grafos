{
  "nbformat": 4,
  "nbformat_minor": 0,
  "metadata": {
    "colab": {
      "provenance": [],
      "include_colab_link": true
    },
    "kernelspec": {
      "name": "python3",
      "display_name": "Python 3"
    },
    "language_info": {
      "name": "python"
    }
  },
  "cells": [
    {
      "cell_type": "markdown",
      "metadata": {
        "id": "view-in-github",
        "colab_type": "text"
      },
      "source": [
        "<a href=\"https://colab.research.google.com/github/leandro-adal/TG-ufal/blob/main/Matriz_Incidencia/03_Matriz_Incidencia.ipynb\" target=\"_parent\"><img src=\"https://colab.research.google.com/assets/colab-badge.svg\" alt=\"Open In Colab\"/></a>"
      ]
    },
    {
      "cell_type": "code",
      "execution_count": null,
      "metadata": {
        "id": "9OM_eB5WmTtI"
      },
      "outputs": [],
      "source": [
        "class Grafo:\n",
        "\n",
        "  n_arestas = 0 \n",
        "  m_vertices = 0\n",
        "  matriz = 0\n",
        "\n",
        "  def __init__(self,m_vertices,n_arestas):\n",
        "      self.n_arestas = n_arestas\n",
        "      self.m_vertices = m_vertices\n",
        "      self.matriz = [ [ 0 for i in range(n_arestas) ] for j in range(m_vertices) ]\n",
        "\n",
        "  def __str__(self):\n",
        "    graph = ''\n",
        "    for i in range(self.m_vertices):\n",
        "      for j in range(self.n_arestas):\n",
        "        graph += str(self.matriz[i][j])+' '\n",
        "      graph +='\\n'\n",
        "    return graph\n",
        "\n",
        "  def criar_aresta(self,vi,vj,e):\n",
        "    self.matriz[vi][e] +=1\n",
        "    self.matriz[vj][e] +=1\n",
        "\n",
        "  def remover_aresta(self,vi,vj,e):\n",
        "    self.matriz[vi][e] -=1\n",
        "    self.matriz[vj][e] -=1\n",
        "\n",
        "  def existe_aresta(self,vi,vj,e):\n",
        "    return self.matriz[vi][e] != 0 and self.matriz[vj][e] != 0\n",
        "\n",
        "  def getAresta(self,vi,vj):\n",
        "    for e in range(self.n_arestas):\n",
        "      if self.existe_aresta(vi,vj,e):\n",
        "        return e\n",
        "    return -1\n",
        "\n",
        "  def getGrauVertice(self,vertice):\n",
        "    grau = 0\n",
        "    for a in range(self.n_arestas):\n",
        "      grau += self.matriz[vertice][a]\n",
        "    return grau\n",
        "\n",
        "  def getGrauGrafo(self):\n",
        "    grau = 0\n",
        "    for v in range(self.m_vertices):\n",
        "      grau += self.getGrauVertice(v)\n",
        "    return grau\n",
        "\n",
        "  # grafo simples -sem lacos e sem arestas paralelas\n",
        "  def temLoop(self):\n",
        "    for v in range(self.m_vertices):\n",
        "      for e in range(self.n_arestas):\n",
        "        if self.matriz[v][e] > 1:\n",
        "          return True\n",
        "    return False\n",
        "\n",
        "  def temArestasParalelas(self):\n",
        "    for a1 in range(self.n_arestas-1):\n",
        "      arestas1 = []\n",
        "      for v1 in range(self.m_vertices):\n",
        "        arestas1.append(self.matriz[v1][a1])\n",
        "      # print(a1,arestas1)\n",
        "      for a2 in range(a1+1,self.n_arestas):\n",
        "        arestas2 = []\n",
        "        for v2 in range(self.m_vertices):\n",
        "          arestas2.append(self.matriz[v2][a2])\n",
        "        # print('\\t',a2,arestas2)\n",
        "        if arestas1 == arestas2:\n",
        "          return True\n",
        "    return False\n",
        "    \n",
        "\n",
        "  def e_simples(self):\n",
        "    if self.temLoop() or self.temArestasParalelas():\n",
        "      return False\n",
        "    else:\n",
        "      return True\n",
        "\n",
        "  # grafo completo - todo vertice e adjacente de todo outro vertice\n",
        "  # def e_completo(self):\n",
        "\n",
        "  # def bipartido(self):\n",
        "\n",
        "  # def e_subgrafo(self,h):\n",
        "\n",
        "\n",
        "    \n",
        "\n",
        "\n",
        "\n",
        "  \n",
        "\n",
        "\n"
      ]
    },
    {
      "cell_type": "code",
      "source": [
        "g = Grafo(4,7)\n",
        "print(g)\n",
        "\n",
        "g.criar_aresta(0,1,0) #aresta 1\n",
        "g.criar_aresta(0,1,1) #aresta 2\n",
        "g.criar_aresta(1,2,2) #aresta 3\n",
        "g.criar_aresta(2,3,3) #aresta 4\n",
        "g.criar_aresta(0,3,4) #aresta 5\n",
        "g.criar_aresta(3,3,5) #aresta 6\n",
        "g.criar_aresta(1,3,6) #aresta 7\n",
        "\n",
        "print(g)\n",
        "\n",
        "print(g.existe_aresta(1,3,6))\n",
        "\n",
        "print(g.getAresta(0,3))\n",
        "g.remover_aresta(0,3,4)\n",
        "print(g)\n",
        "print(g.getAresta(0,3))\n",
        "\n",
        "print(g.getGrauVertice(0))\n",
        "print(g.getGrauVertice(3))\n",
        "\n",
        "print(g.getGrauGrafo())\n",
        "\n",
        "print(g.e_simples())\n"
      ],
      "metadata": {
        "colab": {
          "base_uri": "https://localhost:8080/"
        },
        "id": "xuE3UEYSwZsm",
        "outputId": "c4b9fe7c-0b94-485e-ff2d-3d054639ff7d"
      },
      "execution_count": null,
      "outputs": [
        {
          "output_type": "stream",
          "name": "stdout",
          "text": [
            "0 0 0 0 0 0 0 \n",
            "0 0 0 0 0 0 0 \n",
            "0 0 0 0 0 0 0 \n",
            "0 0 0 0 0 0 0 \n",
            "\n",
            "1 1 0 0 1 0 0 \n",
            "1 1 1 0 0 0 1 \n",
            "0 0 1 1 0 0 0 \n",
            "0 0 0 1 1 2 1 \n",
            "\n",
            "True\n",
            "4\n",
            "1 1 0 0 0 0 0 \n",
            "1 1 1 0 0 0 1 \n",
            "0 0 1 1 0 0 0 \n",
            "0 0 0 1 0 2 1 \n",
            "\n",
            "-1\n",
            "2\n",
            "4\n",
            "12\n",
            "False\n"
          ]
        }
      ]
    },
    {
      "cell_type": "code",
      "source": [
        "g.matriz"
      ],
      "metadata": {
        "colab": {
          "base_uri": "https://localhost:8080/"
        },
        "id": "IYqWb6ccto0_",
        "outputId": "bc781797-ad72-477e-be07-4213524a953e"
      },
      "execution_count": null,
      "outputs": [
        {
          "output_type": "execute_result",
          "data": {
            "text/plain": [
              "[[1, 1, 0, 0, 1, 0, 0],\n",
              " [1, 1, 1, 0, 0, 0, 0],\n",
              " [0, 0, 1, 1, 0, 0, 0],\n",
              " [0, 0, 0, 1, 1, 2, 0]]"
            ]
          },
          "metadata": {},
          "execution_count": 55
        }
      ]
    },
    {
      "cell_type": "code",
      "source": [
        "g.matriz[0][0]"
      ],
      "metadata": {
        "colab": {
          "base_uri": "https://localhost:8080/"
        },
        "id": "lrt3aCavtz8v",
        "outputId": "c6e572b2-505f-4609-e71c-2491981cf6f6"
      },
      "execution_count": null,
      "outputs": [
        {
          "output_type": "execute_result",
          "data": {
            "text/plain": [
              "1"
            ]
          },
          "metadata": {},
          "execution_count": 59
        }
      ]
    }
  ]
}