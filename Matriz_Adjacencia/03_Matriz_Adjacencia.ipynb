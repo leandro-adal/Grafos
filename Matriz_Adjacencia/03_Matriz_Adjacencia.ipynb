{
  "nbformat": 4,
  "nbformat_minor": 0,
  "metadata": {
    "colab": {
      "provenance": [],
      "include_colab_link": true
    },
    "kernelspec": {
      "name": "python3",
      "display_name": "Python 3"
    },
    "language_info": {
      "name": "python"
    }
  },
  "cells": [
    {
      "cell_type": "markdown",
      "metadata": {
        "id": "view-in-github",
        "colab_type": "text"
      },
      "source": [
        "<a href=\"https://colab.research.google.com/github/leandro-adal/TG-ufal/blob/main/Matriz_Adjacencia/03_Matriz_Adjacencia.ipynb\" target=\"_parent\"><img src=\"https://colab.research.google.com/assets/colab-badge.svg\" alt=\"Open In Colab\"/></a>"
      ]
    },
    {
      "cell_type": "code",
      "execution_count": null,
      "metadata": {
        "id": "dc-Zqn96nU9G"
      },
      "outputs": [],
      "source": [
        "class Grafo:\n",
        "  n = 0\n",
        "  matriz = 0\n",
        "\n",
        "  # construtor\n",
        "  def __init__(self,n):\n",
        "    self.n = n\n",
        "    self.matriz = [ [ 0 for i in range(n) ] for j in range(n) ]\n",
        "\n",
        "  # imprimir\n",
        "  def __str__(self):\n",
        "    graph = ''\n",
        "    for i in range(self.n):\n",
        "      for j in range(self.n):\n",
        "        graph += str(self.matriz[i][j])+' '\n",
        "      graph +='\\n'\n",
        "    return graph\n",
        "\n",
        "  # inserir\n",
        "  def criar_aresta(self, vi,vj):\n",
        "      self.matriz[vi][vj] +=1\n",
        "      self.matriz[vj][vi] +=1\n",
        "\n",
        "  # remover\n",
        "  def remover_aresta(self, vi,vj):\n",
        "      self.matriz[vi][vj] -=1\n",
        "      self.matriz[vj][vi] -=1\n",
        "  \n",
        "  # existe\n",
        "  def existe_aresta(self,vi,vj):\n",
        "    return self.matriz[vi][vj] > 0\n",
        "\n",
        "  # grauVertice\n",
        "  def getGrauVertice(self,vertice):\n",
        "    grau = 0\n",
        "    for v in range(self.n):\n",
        "      grau += self.matriz[v][vertice]\n",
        "    return grau\n",
        "\n",
        "  # grauGrafo\n",
        "  def getGrauGrafo(self):\n",
        "    grau = 0\n",
        "    for v in range(self.n):\n",
        "      grau += self.getGrauVertice(v)\n",
        "    return grau\n",
        "\n",
        "  # temLoop\n",
        "  def temLoop(self):\n",
        "    for i in range(self.n):\n",
        "      if self.matriz[i][i] != 0:\n",
        "        return True\n",
        "    return False\n",
        "\n",
        "  def temArestasParalelas(self):\n",
        "    for i in range(self.n):\n",
        "      for j in range(i+1,self.n):\n",
        "        if self.matriz[i][j] > 1:\n",
        "          return True\n",
        "    return False\n",
        "\n",
        "  def e_simples(self):\n",
        "    if not self.temLoop() and not self.temArestasParalelas():\n",
        "      return True\n",
        "    else:\n",
        "      return False\n"
      ]
    },
    {
      "cell_type": "code",
      "source": [
        "g = Grafo(4)\n",
        "print(g)"
      ],
      "metadata": {
        "colab": {
          "base_uri": "https://localhost:8080/"
        },
        "id": "G7V-JmPa0lwF",
        "outputId": "97a9c179-aa46-4cf1-bed8-07b60da12b89"
      },
      "execution_count": null,
      "outputs": [
        {
          "output_type": "stream",
          "name": "stdout",
          "text": [
            "0 0 0 0 \n",
            "0 0 0 0 \n",
            "0 0 0 0 \n",
            "0 0 0 0 \n",
            "\n"
          ]
        }
      ]
    },
    {
      "cell_type": "code",
      "source": [
        "g.criar_aresta(0,1) #aresta 1\n",
        "g.criar_aresta(0,1) #aresta 2\n",
        "g.criar_aresta(1,2) #aresta 3\n",
        "g.criar_aresta(2,3) #aresta 4\n",
        "g.criar_aresta(0,3) #aresta 5\n",
        "g.criar_aresta(3,3) #aresta 6\n",
        "g.criar_aresta(1,3) #aresta 7\n",
        "\n",
        "print(g)"
      ],
      "metadata": {
        "colab": {
          "base_uri": "https://localhost:8080/"
        },
        "id": "oiLtDxZFfKK2",
        "outputId": "3aadad94-2c05-460b-9be9-ce88f7b23ec0"
      },
      "execution_count": null,
      "outputs": [
        {
          "output_type": "stream",
          "name": "stdout",
          "text": [
            "0 2 0 1 \n",
            "2 0 1 1 \n",
            "0 1 0 1 \n",
            "1 1 1 1 \n",
            "\n"
          ]
        }
      ]
    },
    {
      "cell_type": "code",
      "source": [
        "print(g.existe_aresta(1,3))\n",
        "print(g.existe_aresta(0,2))"
      ],
      "metadata": {
        "colab": {
          "base_uri": "https://localhost:8080/"
        },
        "id": "nnGPaGUZfPg3",
        "outputId": "c58485e5-2658-4f5c-c49f-4fd0d21ae222"
      },
      "execution_count": null,
      "outputs": [
        {
          "output_type": "stream",
          "name": "stdout",
          "text": [
            "True\n",
            "False\n"
          ]
        }
      ]
    },
    {
      "cell_type": "code",
      "source": [
        "print(g.getGrauVertice(0))\n",
        "print(g.getGrauVertice(3))\n",
        "\n",
        "print(g.getGrauGrafo())"
      ],
      "metadata": {
        "colab": {
          "base_uri": "https://localhost:8080/"
        },
        "id": "3Di16LlifSP0",
        "outputId": "1afee035-cfac-43d8-b02b-25719830da1a"
      },
      "execution_count": null,
      "outputs": [
        {
          "output_type": "stream",
          "name": "stdout",
          "text": [
            "3\n",
            "4\n",
            "13\n"
          ]
        }
      ]
    },
    {
      "cell_type": "code",
      "source": [
        "print(g.temLoop())\n",
        "print(g.temArestasParalelas())\n",
        "print(g.e_simples())"
      ],
      "metadata": {
        "colab": {
          "base_uri": "https://localhost:8080/"
        },
        "id": "60-S-n1pf0Oj",
        "outputId": "548ad896-d604-4127-f5cc-9a0057b31486"
      },
      "execution_count": null,
      "outputs": [
        {
          "output_type": "stream",
          "name": "stdout",
          "text": [
            "True\n",
            "True\n",
            "False\n"
          ]
        }
      ]
    },
    {
      "cell_type": "code",
      "source": [
        "def bipartido(g):\n",
        "  n = g.n\n",
        "  cor = [None]*n\n",
        "  cor[0] = 0\n",
        "  print(cor)\n",
        "  for i in range(n-1):\n",
        "    for j in range(i+1,n):\n",
        "      if g.matriz[i][j] == 1: #te aresta entre vi e vj\n",
        "        print(cor)\n",
        "        if cor[i] == cor[j]:\n",
        "          return False\n",
        "        elif cor[j]==None:\n",
        "          cor[j] = (cor[i]+1)%2\n",
        "  return True\n"
      ],
      "metadata": {
        "id": "Z0r7ulgmmVbQ"
      },
      "execution_count": null,
      "outputs": []
    },
    {
      "cell_type": "code",
      "source": [
        "g = Grafo(6)\n",
        "g.criar_aresta(0,1)\n",
        "g.criar_aresta(1,2)\n",
        "g.criar_aresta(2,3)\n",
        "g.criar_aresta(3,4)\n",
        "g.criar_aresta(4,5)\n",
        "g.criar_aresta(0,4)\n",
        "g.criar_aresta(1,3)\n",
        "\n",
        "print(g)\n",
        "bipartido(g)"
      ],
      "metadata": {
        "colab": {
          "base_uri": "https://localhost:8080/"
        },
        "id": "Szhaka7tmalN",
        "outputId": "8dc68bb0-29ce-4a66-f7d5-e5633e4136d4"
      },
      "execution_count": null,
      "outputs": [
        {
          "output_type": "stream",
          "name": "stdout",
          "text": [
            "0 1 0 0 1 0 \n",
            "1 0 1 1 0 0 \n",
            "0 1 0 1 0 0 \n",
            "0 1 1 0 1 0 \n",
            "1 0 0 1 0 1 \n",
            "0 0 0 0 1 0 \n",
            "\n",
            "[0, None, None, None, None, None]\n",
            "[0, None, None, None, None, None]\n",
            "[0, 1, None, None, None, None]\n",
            "[0, 1, None, None, 1, None]\n",
            "[0, 1, 0, None, 1, None]\n",
            "[0, 1, 0, 0, 1, None]\n"
          ]
        },
        {
          "output_type": "execute_result",
          "data": {
            "text/plain": [
              "False"
            ]
          },
          "metadata": {},
          "execution_count": 49
        }
      ]
    }
  ]
}